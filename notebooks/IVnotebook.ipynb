{
  "nbformat": 4,
  "nbformat_minor": 0,
  "metadata": {
    "colab": {
      "name": "IVnotebook.ipynb",
      "provenance": [],
      "authorship_tag": "ABX9TyPFTvg0YBYraVGEiRH4Ukh9",
      "include_colab_link": true
    },
    "kernelspec": {
      "name": "python3",
      "display_name": "Python 3"
    },
    "language_info": {
      "name": "python"
    }
  },
  "cells": [
    {
      "cell_type": "markdown",
      "metadata": {
        "id": "view-in-github",
        "colab_type": "text"
      },
      "source": [
        "<a href=\"https://colab.research.google.com/github/MasaAsami/LTsandox/blob/main/notebooks/IVnotebook.ipynb\" target=\"_parent\"><img src=\"https://colab.research.google.com/assets/colab-badge.svg\" alt=\"Open In Colab\"/></a>"
      ]
    },
    {
      "cell_type": "markdown",
      "source": [
        "# randomized-encouragement design\n",
        "- 操作変数法と無作為化推奨デザインの概説"
      ],
      "metadata": {
        "id": "EC-TSceF2D4Y"
      }
    },
    {
      "cell_type": "code",
      "execution_count": 1,
      "metadata": {
        "cellView": "form",
        "id": "DIOejMmI17Kl"
      },
      "outputs": [],
      "source": [
        "# @title import pkg\n",
        "import warnings\n",
        "\n",
        "warnings.filterwarnings(\"ignore\")\n",
        "\n",
        "import pandas as pd\n",
        "import numpy as np\n",
        "import statsmodels.api as sm\n",
        "import statsmodels.formula.api as smf\n",
        "from scipy import stats\n",
        "\n",
        "import matplotlib.pyplot as plt\n",
        "\n",
        "plt.style.use(\"ggplot\")\n",
        "\n",
        "import seaborn as sns"
      ]
    },
    {
      "cell_type": "markdown",
      "source": [
        ""
      ],
      "metadata": {
        "id": "b04mTwVm2C6n"
      }
    },
    {
      "cell_type": "code",
      "source": [
        "%matplotlib inline"
      ],
      "metadata": {
        "id": "tSuXDAsq2Mi2"
      },
      "execution_count": 2,
      "outputs": []
    },
    {
      "cell_type": "code",
      "source": [
        "# @title sim data\n",
        "\n",
        "def sim_df(true_effect=1, n=500, seed=0) -> pd.DataFrame:\n",
        "    np.random.seed(seed=seed)\n",
        "    _iv = np.random.choice([1, 0], n)\n",
        "    _x = np.random.normal(loc=0, scale=3, size=n)\n",
        "\n",
        "    _temp = -0.5 + 0.5 * _iv + 0.5 * _x + np.random.normal(loc=0, scale=0.01, size=n)\n",
        "    _t_prob = 1 / (1 + np.exp(-_temp))\n",
        "    _t = np.where(_t_prob > 0.5, 1, 0)\n",
        "\n",
        "    _y = 1 + true_effect * _t - 5 * _x + np.random.normal(loc=0, scale=0.1, size=n)\n",
        "\n",
        "    return pd.DataFrame({\"latent_x\": _x, \"iv\": _iv, \"t\": _t, \"y\": _y})"
      ],
      "metadata": {
        "cellView": "form",
        "id": "3_18rqXH2PR4"
      },
      "execution_count": 3,
      "outputs": []
    },
    {
      "cell_type": "code",
      "source": [
        "N = 5000\n",
        "TRUE_EFFECT = 10\n",
        "\n",
        "df = sim_df(true_effect=TRUE_EFFECT, n=N, seed=0) \n",
        "df.sample(5)"
      ],
      "metadata": {
        "colab": {
          "base_uri": "https://localhost:8080/",
          "height": 206
        },
        "id": "LqskzvKj2U64",
        "outputId": "aeefb235-e13d-4789-e70d-c8d20f1dd6b8"
      },
      "execution_count": 4,
      "outputs": [
        {
          "output_type": "execute_result",
          "data": {
            "text/plain": [
              "      latent_x  iv  t          y\n",
              "2298  2.577992   1  1  -1.952472\n",
              "2599  1.256916   0  1   4.717017\n",
              "3445 -3.694655   0  0  19.640854\n",
              "2069  5.531100   1  1 -16.685791\n",
              "3093  3.453454   0  1  -6.301546"
            ],
            "text/html": [
              "\n",
              "  <div id=\"df-06b0e57b-ba5f-4249-a295-21a54239da65\">\n",
              "    <div class=\"colab-df-container\">\n",
              "      <div>\n",
              "<style scoped>\n",
              "    .dataframe tbody tr th:only-of-type {\n",
              "        vertical-align: middle;\n",
              "    }\n",
              "\n",
              "    .dataframe tbody tr th {\n",
              "        vertical-align: top;\n",
              "    }\n",
              "\n",
              "    .dataframe thead th {\n",
              "        text-align: right;\n",
              "    }\n",
              "</style>\n",
              "<table border=\"1\" class=\"dataframe\">\n",
              "  <thead>\n",
              "    <tr style=\"text-align: right;\">\n",
              "      <th></th>\n",
              "      <th>latent_x</th>\n",
              "      <th>iv</th>\n",
              "      <th>t</th>\n",
              "      <th>y</th>\n",
              "    </tr>\n",
              "  </thead>\n",
              "  <tbody>\n",
              "    <tr>\n",
              "      <th>2298</th>\n",
              "      <td>2.577992</td>\n",
              "      <td>1</td>\n",
              "      <td>1</td>\n",
              "      <td>-1.952472</td>\n",
              "    </tr>\n",
              "    <tr>\n",
              "      <th>2599</th>\n",
              "      <td>1.256916</td>\n",
              "      <td>0</td>\n",
              "      <td>1</td>\n",
              "      <td>4.717017</td>\n",
              "    </tr>\n",
              "    <tr>\n",
              "      <th>3445</th>\n",
              "      <td>-3.694655</td>\n",
              "      <td>0</td>\n",
              "      <td>0</td>\n",
              "      <td>19.640854</td>\n",
              "    </tr>\n",
              "    <tr>\n",
              "      <th>2069</th>\n",
              "      <td>5.531100</td>\n",
              "      <td>1</td>\n",
              "      <td>1</td>\n",
              "      <td>-16.685791</td>\n",
              "    </tr>\n",
              "    <tr>\n",
              "      <th>3093</th>\n",
              "      <td>3.453454</td>\n",
              "      <td>0</td>\n",
              "      <td>1</td>\n",
              "      <td>-6.301546</td>\n",
              "    </tr>\n",
              "  </tbody>\n",
              "</table>\n",
              "</div>\n",
              "      <button class=\"colab-df-convert\" onclick=\"convertToInteractive('df-06b0e57b-ba5f-4249-a295-21a54239da65')\"\n",
              "              title=\"Convert this dataframe to an interactive table.\"\n",
              "              style=\"display:none;\">\n",
              "        \n",
              "  <svg xmlns=\"http://www.w3.org/2000/svg\" height=\"24px\"viewBox=\"0 0 24 24\"\n",
              "       width=\"24px\">\n",
              "    <path d=\"M0 0h24v24H0V0z\" fill=\"none\"/>\n",
              "    <path d=\"M18.56 5.44l.94 2.06.94-2.06 2.06-.94-2.06-.94-.94-2.06-.94 2.06-2.06.94zm-11 1L8.5 8.5l.94-2.06 2.06-.94-2.06-.94L8.5 2.5l-.94 2.06-2.06.94zm10 10l.94 2.06.94-2.06 2.06-.94-2.06-.94-.94-2.06-.94 2.06-2.06.94z\"/><path d=\"M17.41 7.96l-1.37-1.37c-.4-.4-.92-.59-1.43-.59-.52 0-1.04.2-1.43.59L10.3 9.45l-7.72 7.72c-.78.78-.78 2.05 0 2.83L4 21.41c.39.39.9.59 1.41.59.51 0 1.02-.2 1.41-.59l7.78-7.78 2.81-2.81c.8-.78.8-2.07 0-2.86zM5.41 20L4 18.59l7.72-7.72 1.47 1.35L5.41 20z\"/>\n",
              "  </svg>\n",
              "      </button>\n",
              "      \n",
              "  <style>\n",
              "    .colab-df-container {\n",
              "      display:flex;\n",
              "      flex-wrap:wrap;\n",
              "      gap: 12px;\n",
              "    }\n",
              "\n",
              "    .colab-df-convert {\n",
              "      background-color: #E8F0FE;\n",
              "      border: none;\n",
              "      border-radius: 50%;\n",
              "      cursor: pointer;\n",
              "      display: none;\n",
              "      fill: #1967D2;\n",
              "      height: 32px;\n",
              "      padding: 0 0 0 0;\n",
              "      width: 32px;\n",
              "    }\n",
              "\n",
              "    .colab-df-convert:hover {\n",
              "      background-color: #E2EBFA;\n",
              "      box-shadow: 0px 1px 2px rgba(60, 64, 67, 0.3), 0px 1px 3px 1px rgba(60, 64, 67, 0.15);\n",
              "      fill: #174EA6;\n",
              "    }\n",
              "\n",
              "    [theme=dark] .colab-df-convert {\n",
              "      background-color: #3B4455;\n",
              "      fill: #D2E3FC;\n",
              "    }\n",
              "\n",
              "    [theme=dark] .colab-df-convert:hover {\n",
              "      background-color: #434B5C;\n",
              "      box-shadow: 0px 1px 3px 1px rgba(0, 0, 0, 0.15);\n",
              "      filter: drop-shadow(0px 1px 2px rgba(0, 0, 0, 0.3));\n",
              "      fill: #FFFFFF;\n",
              "    }\n",
              "  </style>\n",
              "\n",
              "      <script>\n",
              "        const buttonEl =\n",
              "          document.querySelector('#df-06b0e57b-ba5f-4249-a295-21a54239da65 button.colab-df-convert');\n",
              "        buttonEl.style.display =\n",
              "          google.colab.kernel.accessAllowed ? 'block' : 'none';\n",
              "\n",
              "        async function convertToInteractive(key) {\n",
              "          const element = document.querySelector('#df-06b0e57b-ba5f-4249-a295-21a54239da65');\n",
              "          const dataTable =\n",
              "            await google.colab.kernel.invokeFunction('convertToInteractive',\n",
              "                                                     [key], {});\n",
              "          if (!dataTable) return;\n",
              "\n",
              "          const docLinkHtml = 'Like what you see? Visit the ' +\n",
              "            '<a target=\"_blank\" href=https://colab.research.google.com/notebooks/data_table.ipynb>data table notebook</a>'\n",
              "            + ' to learn more about interactive tables.';\n",
              "          element.innerHTML = '';\n",
              "          dataTable['output_type'] = 'display_data';\n",
              "          await google.colab.output.renderOutput(dataTable, element);\n",
              "          const docLink = document.createElement('div');\n",
              "          docLink.innerHTML = docLinkHtml;\n",
              "          element.appendChild(docLink);\n",
              "        }\n",
              "      </script>\n",
              "    </div>\n",
              "  </div>\n",
              "  "
            ]
          },
          "metadata": {},
          "execution_count": 4
        }
      ]
    },
    {
      "cell_type": "code",
      "source": [
        "df.groupby(\"t\")[\"y\"].describe().T"
      ],
      "metadata": {
        "colab": {
          "base_uri": "https://localhost:8080/",
          "height": 300
        },
        "id": "23nInelY5RCN",
        "outputId": "6d54a8df-dbb7-4c08-d07b-7df31fe19076"
      },
      "execution_count": 5,
      "outputs": [
        {
          "output_type": "execute_result",
          "data": {
            "text/plain": [
              "t                0            1\n",
              "count  2870.000000  2130.000000\n",
              "mean     11.173053    -2.379680\n",
              "std       9.634723     8.773237\n",
              "min      -4.046738   -45.973157\n",
              "25%       3.645732    -7.423094\n",
              "50%       9.591128    -0.797898\n",
              "75%      16.847102     4.154323\n",
              "max      57.203233    11.170376"
            ],
            "text/html": [
              "\n",
              "  <div id=\"df-d55d5c15-10ef-4fdd-8c82-cde88f81b9b2\">\n",
              "    <div class=\"colab-df-container\">\n",
              "      <div>\n",
              "<style scoped>\n",
              "    .dataframe tbody tr th:only-of-type {\n",
              "        vertical-align: middle;\n",
              "    }\n",
              "\n",
              "    .dataframe tbody tr th {\n",
              "        vertical-align: top;\n",
              "    }\n",
              "\n",
              "    .dataframe thead th {\n",
              "        text-align: right;\n",
              "    }\n",
              "</style>\n",
              "<table border=\"1\" class=\"dataframe\">\n",
              "  <thead>\n",
              "    <tr style=\"text-align: right;\">\n",
              "      <th>t</th>\n",
              "      <th>0</th>\n",
              "      <th>1</th>\n",
              "    </tr>\n",
              "  </thead>\n",
              "  <tbody>\n",
              "    <tr>\n",
              "      <th>count</th>\n",
              "      <td>2870.000000</td>\n",
              "      <td>2130.000000</td>\n",
              "    </tr>\n",
              "    <tr>\n",
              "      <th>mean</th>\n",
              "      <td>11.173053</td>\n",
              "      <td>-2.379680</td>\n",
              "    </tr>\n",
              "    <tr>\n",
              "      <th>std</th>\n",
              "      <td>9.634723</td>\n",
              "      <td>8.773237</td>\n",
              "    </tr>\n",
              "    <tr>\n",
              "      <th>min</th>\n",
              "      <td>-4.046738</td>\n",
              "      <td>-45.973157</td>\n",
              "    </tr>\n",
              "    <tr>\n",
              "      <th>25%</th>\n",
              "      <td>3.645732</td>\n",
              "      <td>-7.423094</td>\n",
              "    </tr>\n",
              "    <tr>\n",
              "      <th>50%</th>\n",
              "      <td>9.591128</td>\n",
              "      <td>-0.797898</td>\n",
              "    </tr>\n",
              "    <tr>\n",
              "      <th>75%</th>\n",
              "      <td>16.847102</td>\n",
              "      <td>4.154323</td>\n",
              "    </tr>\n",
              "    <tr>\n",
              "      <th>max</th>\n",
              "      <td>57.203233</td>\n",
              "      <td>11.170376</td>\n",
              "    </tr>\n",
              "  </tbody>\n",
              "</table>\n",
              "</div>\n",
              "      <button class=\"colab-df-convert\" onclick=\"convertToInteractive('df-d55d5c15-10ef-4fdd-8c82-cde88f81b9b2')\"\n",
              "              title=\"Convert this dataframe to an interactive table.\"\n",
              "              style=\"display:none;\">\n",
              "        \n",
              "  <svg xmlns=\"http://www.w3.org/2000/svg\" height=\"24px\"viewBox=\"0 0 24 24\"\n",
              "       width=\"24px\">\n",
              "    <path d=\"M0 0h24v24H0V0z\" fill=\"none\"/>\n",
              "    <path d=\"M18.56 5.44l.94 2.06.94-2.06 2.06-.94-2.06-.94-.94-2.06-.94 2.06-2.06.94zm-11 1L8.5 8.5l.94-2.06 2.06-.94-2.06-.94L8.5 2.5l-.94 2.06-2.06.94zm10 10l.94 2.06.94-2.06 2.06-.94-2.06-.94-.94-2.06-.94 2.06-2.06.94z\"/><path d=\"M17.41 7.96l-1.37-1.37c-.4-.4-.92-.59-1.43-.59-.52 0-1.04.2-1.43.59L10.3 9.45l-7.72 7.72c-.78.78-.78 2.05 0 2.83L4 21.41c.39.39.9.59 1.41.59.51 0 1.02-.2 1.41-.59l7.78-7.78 2.81-2.81c.8-.78.8-2.07 0-2.86zM5.41 20L4 18.59l7.72-7.72 1.47 1.35L5.41 20z\"/>\n",
              "  </svg>\n",
              "      </button>\n",
              "      \n",
              "  <style>\n",
              "    .colab-df-container {\n",
              "      display:flex;\n",
              "      flex-wrap:wrap;\n",
              "      gap: 12px;\n",
              "    }\n",
              "\n",
              "    .colab-df-convert {\n",
              "      background-color: #E8F0FE;\n",
              "      border: none;\n",
              "      border-radius: 50%;\n",
              "      cursor: pointer;\n",
              "      display: none;\n",
              "      fill: #1967D2;\n",
              "      height: 32px;\n",
              "      padding: 0 0 0 0;\n",
              "      width: 32px;\n",
              "    }\n",
              "\n",
              "    .colab-df-convert:hover {\n",
              "      background-color: #E2EBFA;\n",
              "      box-shadow: 0px 1px 2px rgba(60, 64, 67, 0.3), 0px 1px 3px 1px rgba(60, 64, 67, 0.15);\n",
              "      fill: #174EA6;\n",
              "    }\n",
              "\n",
              "    [theme=dark] .colab-df-convert {\n",
              "      background-color: #3B4455;\n",
              "      fill: #D2E3FC;\n",
              "    }\n",
              "\n",
              "    [theme=dark] .colab-df-convert:hover {\n",
              "      background-color: #434B5C;\n",
              "      box-shadow: 0px 1px 3px 1px rgba(0, 0, 0, 0.15);\n",
              "      filter: drop-shadow(0px 1px 2px rgba(0, 0, 0, 0.3));\n",
              "      fill: #FFFFFF;\n",
              "    }\n",
              "  </style>\n",
              "\n",
              "      <script>\n",
              "        const buttonEl =\n",
              "          document.querySelector('#df-d55d5c15-10ef-4fdd-8c82-cde88f81b9b2 button.colab-df-convert');\n",
              "        buttonEl.style.display =\n",
              "          google.colab.kernel.accessAllowed ? 'block' : 'none';\n",
              "\n",
              "        async function convertToInteractive(key) {\n",
              "          const element = document.querySelector('#df-d55d5c15-10ef-4fdd-8c82-cde88f81b9b2');\n",
              "          const dataTable =\n",
              "            await google.colab.kernel.invokeFunction('convertToInteractive',\n",
              "                                                     [key], {});\n",
              "          if (!dataTable) return;\n",
              "\n",
              "          const docLinkHtml = 'Like what you see? Visit the ' +\n",
              "            '<a target=\"_blank\" href=https://colab.research.google.com/notebooks/data_table.ipynb>data table notebook</a>'\n",
              "            + ' to learn more about interactive tables.';\n",
              "          element.innerHTML = '';\n",
              "          dataTable['output_type'] = 'display_data';\n",
              "          await google.colab.output.renderOutput(dataTable, element);\n",
              "          const docLink = document.createElement('div');\n",
              "          docLink.innerHTML = docLinkHtml;\n",
              "          element.appendChild(docLink);\n",
              "        }\n",
              "      </script>\n",
              "    </div>\n",
              "  </div>\n",
              "  "
            ]
          },
          "metadata": {},
          "execution_count": 5
        }
      ]
    },
    {
      "cell_type": "code",
      "source": [
        "sns.pointplot(\n",
        "    data=df,\n",
        "    x=\"t\",\n",
        "    y=\"y\",\n",
        "    dodge=True,\n",
        "    markers=[\"o\", \"s\"],\n",
        "    capsize=0.1,\n",
        "    errwidth=1,\n",
        ")"
      ],
      "metadata": {
        "colab": {
          "base_uri": "https://localhost:8080/",
          "height": 301
        },
        "id": "zwtawqpD5WcO",
        "outputId": "da7ac48e-c5d4-49d3-84a5-25d770501264"
      },
      "execution_count": 6,
      "outputs": [
        {
          "output_type": "execute_result",
          "data": {
            "text/plain": [
              "<matplotlib.axes._subplots.AxesSubplot at 0x7ff84f9aded0>"
            ]
          },
          "metadata": {},
          "execution_count": 6
        },
        {
          "output_type": "display_data",
          "data": {
            "text/plain": [
              "<Figure size 432x288 with 1 Axes>"
            ],
            "image/png": "[encoded data removed]"
          },
          "metadata": {
            "needs_background": "light"
          }
        }
      ]
    },
    {
      "cell_type": "code",
      "source": [
        "sns.pointplot(\n",
        "    data=df,\n",
        "    x=\"t\",\n",
        "    y=\"y\",\n",
        "    hue=\"iv\",\n",
        "    dodge=True,\n",
        "    markers=[\"o\", \"s\"],\n",
        "    capsize=0.1,\n",
        "    errwidth=1,\n",
        ")"
      ],
      "metadata": {
        "colab": {
          "base_uri": "https://localhost:8080/",
          "height": 300
        },
        "id": "-j2tRwjM5cec",
        "outputId": "da58908c-ec4c-4f40-fa39-0bf0f1ec071c"
      },
      "execution_count": 7,
      "outputs": [
        {
          "output_type": "execute_result",
          "data": {
            "text/plain": [
              "<matplotlib.axes._subplots.AxesSubplot at 0x7ff84f430790>"
            ]
          },
          "metadata": {},
          "execution_count": 7
        },
        {
          "output_type": "display_data",
          "data": {
            "text/plain": [
              "<Figure size 432x288 with 1 Axes>"
            ],
            "image/png": "[encoded data removed]"
          },
          "metadata": {
            "needs_background": "light"
          }
        }
      ]
    },
    {
      "cell_type": "markdown",
      "source": [
        "## T のみで回帰した場合"
      ],
      "metadata": {
        "id": "ROasNQG_5n4B"
      }
    },
    {
      "cell_type": "code",
      "source": [
        "_regression = smf.glm(\n",
        "    formula=\"y ~ C(t)\", data=df, family=sm.families.Gaussian()\n",
        ").fit()\n",
        "\n",
        "print(\"介入効果 (naive OLS): \", _regression.params[1])\n",
        "print(\"詳細: \\n\", _regression.summary().tables[1])"
      ],
      "metadata": {
        "colab": {
          "base_uri": "https://localhost:8080/"
        },
        "id": "_ydukXRy5fMm",
        "outputId": "d951cf07-88ec-40e2-961d-8279d049375b"
      },
      "execution_count": 8,
      "outputs": [
        {
          "output_type": "stream",
          "name": "stdout",
          "text": [
            "介入効果 (naive OLS):  -13.552732865956429\n",
            "詳細: \n",
            " ==============================================================================\n",
            "                 coef    std err          z      P>|z|      [0.025      0.975]\n",
            "------------------------------------------------------------------------------\n",
            "Intercept     11.1731      0.173     64.518      0.000      10.834      11.512\n",
            "C(t)[T.1]    -13.5527      0.265    -51.079      0.000     -14.073     -13.033\n",
            "==============================================================================\n"
          ]
        }
      ]
    },
    {
      "cell_type": "markdown",
      "source": [
        "## 理想：もしXを観測できたなら"
      ],
      "metadata": {
        "id": "1igqfcdu5tMR"
      }
    },
    {
      "cell_type": "code",
      "source": [
        "_regression = smf.glm(\n",
        "    formula=\"y ~ C(t) + latent_x\", data=df, family=sm.families.Gaussian()\n",
        ").fit()\n",
        "\n",
        "print(\"介入効果 (perfect OLS): \", _regression.params[1])\n",
        "print(\"詳細: \\n\", _regression.summary().tables[1])"
      ],
      "metadata": {
        "colab": {
          "base_uri": "https://localhost:8080/"
        },
        "id": "u-0gCFso5lny",
        "outputId": "c6a0af32-1995-4eb1-a727-209bb748c13e"
      },
      "execution_count": 9,
      "outputs": [
        {
          "output_type": "stream",
          "name": "stdout",
          "text": [
            "介入効果 (perfect OLS):  10.011950869840312\n",
            "詳細: \n",
            " ==============================================================================\n",
            "                 coef    std err          z      P>|z|      [0.025      0.975]\n",
            "------------------------------------------------------------------------------\n",
            "Intercept      0.9973      0.002    417.662      0.000       0.993       1.002\n",
            "C(t)[T.1]     10.0120      0.005   2216.254      0.000      10.003      10.021\n",
            "latent_x      -5.0020      0.001  -6667.024      0.000      -5.003      -5.001\n",
            "==============================================================================\n"
          ]
        }
      ]
    },
    {
      "cell_type": "markdown",
      "source": [
        "# 2段階推定 2SLS\n",
        "###  “forbidden regression”  (Wooldridge 2010) 問題には注意\n",
        "- 多分ML出身者よくやりそうな過ち\n",
        "- Wooldridge, Jeffrey M. 2010. Econometric Analysis of Cross Section and Panel Data. Cambridge, MA: MIT press.).をチェック\n",
        "- もしくは、[The Effect](https://theeffectbook.net/ch-InstrumentalVariables.html?panelset=python-code)"
      ],
      "metadata": {
        "id": "PGXaVCZM6HDU"
      }
    },
    {
      "cell_type": "code",
      "source": [
        "# @title forbidden regression\n",
        "iv_df = df.copy()\n",
        "\n",
        "# 1st regression\n",
        "t_regression = smf.glm(\n",
        "    formula=\"C(t) ~ iv\", data=iv_df, family=sm.families.Binomial()\n",
        ").fit()\n",
        "\n",
        "iv_df[\"t_hat\"] = t_regression.predict(iv_df)\n",
        "\n",
        "# 2nd regression\n",
        "y_regression = smf.glm(\n",
        "    formula=\"y ~ t_hat\", data=iv_df, family=sm.families.Gaussian()\n",
        ").fit()\n",
        "print(\"真の値: \", TRUE_EFFECT)\n",
        "print(\"forbidden regression : \",  y_regression.params[1])"
      ],
      "metadata": {
        "colab": {
          "base_uri": "https://localhost:8080/"
        },
        "cellView": "form",
        "id": "CQE3IEIl51LI",
        "outputId": "ecdcd1e1-d434-4554-b71f-e58c08f152b8"
      },
      "execution_count": 11,
      "outputs": [
        {
          "output_type": "stream",
          "name": "stdout",
          "text": [
            "真の値:  10\n",
            "forbidden regression :  -7.828289669590664\n"
          ]
        }
      ]
    },
    {
      "cell_type": "markdown",
      "source": [
        "気持ち悪いけど、gaussianでモデル作る"
      ],
      "metadata": {
        "id": "N2w28YmR6Vej"
      }
    },
    {
      "cell_type": "code",
      "source": [
        "# 1st regression\n",
        "t_regression = smf.glm(\n",
        "    formula=\"t ~ iv\", data=iv_df, family=sm.families.Gaussian()\n",
        ").fit()\n",
        "iv_df[\"t_hat\"] = t_regression.predict(iv_df)\n",
        "\n",
        "# 2nd regression\n",
        "y_regression = smf.glm(\n",
        "    formula=\"y ~ t_hat\", data=iv_df, family=sm.families.Gaussian()\n",
        ").fit()\n",
        "print(\"真の値: \", TRUE_EFFECT)\n",
        "print(\"2SLS : \",  y_regression.params[1])"
      ],
      "metadata": {
        "colab": {
          "base_uri": "https://localhost:8080/"
        },
        "id": "u2ikBJzA6E3m",
        "outputId": "e4987e5f-d868-4cbf-9d8a-d29b62b8600c"
      },
      "execution_count": 15,
      "outputs": [
        {
          "output_type": "stream",
          "name": "stdout",
          "text": [
            "真の値:  10\n",
            "2SLS :  7.828289669590308\n"
          ]
        }
      ]
    },
    {
      "cell_type": "markdown",
      "source": [
        "## 検算"
      ],
      "metadata": {
        "id": "Gymo-g916inD"
      }
    },
    {
      "cell_type": "code",
      "source": [
        "# IV定義\n",
        "print(\n",
        "    \"IV estimator : \", iv_df[[\"iv\", \"y\"]].cov().values[0, 1] / iv_df[[\"iv\", \"t\"]].cov().values[0, 1]\n",
        ")\n",
        "\n",
        "# Wald estimator\n",
        "_wald_up = iv_df.query(\"iv==1\")[\"y\"].mean() - iv_df.query(\"iv==0\")[\"y\"].mean()\n",
        "_wald_dwn = iv_df.query(\"iv==1\")[\"t\"].mean() - iv_df.query(\"iv==0\")[\"t\"].mean()\n",
        "\n",
        "print(\"Wald estimator : \", _wald_up / _wald_dwn)"
      ],
      "metadata": {
        "colab": {
          "base_uri": "https://localhost:8080/"
        },
        "id": "jirj00ab6ho0",
        "outputId": "2c887f34-525d-4bc8-8f6f-2abd36444863"
      },
      "execution_count": 14,
      "outputs": [
        {
          "output_type": "stream",
          "name": "stdout",
          "text": [
            "IV estimator :  7.828289669590331\n",
            "Wald estimator :  7.828289669590349\n"
          ]
        }
      ]
    },
    {
      "cell_type": "markdown",
      "source": [
        "# シミュレーション\n",
        "- サウンプルサイズが十分大きければ、IV推定法は一致性が成立する"
      ],
      "metadata": {
        "id": "4C7dgXJQ6wAY"
      }
    },
    {
      "cell_type": "code",
      "source": [
        "# @title 10~5000までシミュレーション\n",
        "sample_n_list = [10 * i for i in range(1, 501)]\n",
        "result_dict = {}\n",
        "ols_dict = {}\n",
        "naive_dict = {}\n",
        "for _n in sample_n_list:\n",
        "    _df = sim_df(true_effect=TRUE_EFFECT, n=_n, seed=_n)\n",
        "    result_dict[_n] = _df[[\"iv\", \"y\"]].cov().values[0,1] / _df[[\"iv\", \"t\"]].cov().values[0,1]\n",
        "    \n",
        "    _regression = smf.glm(\n",
        "        formula=\"y ~ C(t) + latent_x\", data=_df, family=sm.families.Gaussian()\n",
        "    ).fit()\n",
        "    ols_dict[_n] = _regression.params[1]\n",
        "    \n",
        "    _regression = smf.glm(\n",
        "        formula=\"y ~ C(t)\", data=_df, family=sm.families.Gaussian()\n",
        "    ).fit()\n",
        "    naive_dict[_n] = _regression.params[1]"
      ],
      "metadata": {
        "cellView": "form",
        "id": "K53DPh866l_I"
      },
      "execution_count": 16,
      "outputs": []
    },
    {
      "cell_type": "code",
      "source": [
        "sim_result = pd.DataFrame(result_dict, index=[\"estimated_effect\"]).T.reset_index()\n",
        "sim_result.columns = [\"sample_size\", \"estimated_effect\"]\n",
        "\n",
        "sim_result.plot.scatter(x=\"sample_size\", y=\"estimated_effect\", alpha=0.5, figsize=(8, 6))\n",
        "plt.axhline(TRUE_EFFECT, color=\"r\", linestyle=\"dashed\", linewidth=1)\n",
        "print(\"操作変数法 推定値\")"
      ],
      "metadata": {
        "colab": {
          "base_uri": "https://localhost:8080/",
          "height": 409
        },
        "id": "kpLfYrN264TA",
        "outputId": "20e913c3-1373-4227-f9f5-9e830471245a"
      },
      "execution_count": 17,
      "outputs": [
        {
          "output_type": "stream",
          "name": "stdout",
          "text": [
            "操作変数法 推定値\n"
          ]
        },
        {
          "output_type": "display_data",
          "data": {
            "text/plain": [
              "<Figure size 576x432 with 1 Axes>"
            ],
            "image/png": "[encoded data removed]"
          },
          "metadata": {
            "needs_background": "light"
          }
        }
      ]
    },
    {
      "cell_type": "code",
      "source": [
        "ols_result = pd.DataFrame(ols_dict, index=[\"estimated_effect\"]).T.reset_index()\n",
        "ols_result.columns = [\"sample_size\", \"estimated_effect\"]\n",
        "\n",
        "ols_result.plot.scatter(x=\"sample_size\", y=\"estimated_effect\", alpha=0.5, figsize=(8, 6))\n",
        "plt.axhline(TRUE_EFFECT, color=\"r\", linestyle=\"dashed\", linewidth=1)\n",
        "print(\"パーフェクトOLS 推定値\")"
      ],
      "metadata": {
        "colab": {
          "base_uri": "https://localhost:8080/",
          "height": 409
        },
        "id": "AmO2r5-067Gi",
        "outputId": "8ec6154f-0ef5-434b-9579-070d00395024"
      },
      "execution_count": 18,
      "outputs": [
        {
          "output_type": "stream",
          "name": "stdout",
          "text": [
            "パーフェクトOLS 推定値\n"
          ]
        },
        {
          "output_type": "display_data",
          "data": {
            "text/plain": [
              "<Figure size 576x432 with 1 Axes>"
            ],
            "image/png": "[encoded data removed]"
          },
          "metadata": {
            "needs_background": "light"
          }
        }
      ]
    },
    {
      "cell_type": "code",
      "source": [
        "naive_result = pd.DataFrame(naive_dict, index=[\"estimated_effect\"]).T.reset_index()\n",
        "naive_result.columns = [\"sample_size\", \"estimated_effect\"]\n",
        "\n",
        "naive_result.plot.scatter(x=\"sample_size\", y=\"estimated_effect\", alpha=0.5, figsize=(8, 6))\n",
        "plt.axhline(TRUE_EFFECT, color=\"r\", linestyle=\"dashed\", linewidth=1)\n",
        "print(\"naive OLS 推定値\")"
      ],
      "metadata": {
        "colab": {
          "base_uri": "https://localhost:8080/",
          "height": 409
        },
        "id": "QlDc8q0Y69Cy",
        "outputId": "6de2791b-d3be-46a9-ab4a-163f812f234f"
      },
      "execution_count": 19,
      "outputs": [
        {
          "output_type": "stream",
          "name": "stdout",
          "text": [
            "naive OLS 推定値\n"
          ]
        },
        {
          "output_type": "display_data",
          "data": {
            "text/plain": [
              "<Figure size 576x432 with 1 Axes>"
            ],
            "image/png": "[encoded data removed]"
          },
          "metadata": {
            "needs_background": "light"
          }
        }
      ]
    },
    {
      "cell_type": "code",
      "source": [
        ""
      ],
      "metadata": {
        "id": "s1Y5INvt6_Vi"
      },
      "execution_count": null,
      "outputs": []
    }
  ]
}